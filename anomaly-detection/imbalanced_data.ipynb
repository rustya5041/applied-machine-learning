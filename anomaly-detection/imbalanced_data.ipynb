{
 "cells": [
  {
   "cell_type": "markdown",
   "metadata": {},
   "source": [
    "# Practice assignment: Handling imbalanced data"
   ]
  },
  {
   "cell_type": "markdown",
   "metadata": {
    "id": "5PXBxwOlOnjw"
   },
   "source": [
    "In this programming assignment, you are going to work with a dataset based on the following data:\n",
    "\n",
    "https://archive.ics.uci.edu/ml/datasets/thyroid+disease\n",
    "\n",
    "_Citation:_\n",
    "\n",
    "* _(Dua, D. and Graff, C. (2019). UCI Machine Learning Repository [http://archive.ics.uci.edu/ml]. Irvine, CA: University of California, School of Information and Computer Science.)_\n",
    "\n",
    "The dataset contains various attributes of patients. Some of them have a thyroid disease (`'Class' = 1`), some of them don't have it (`'Class' = 0`).\n",
    "\n",
    "The data is imbalanced. In this assignment, you are going to preprocess the data and apply various techniques for the imbalanced classification."
   ]
  },
  {
   "cell_type": "code",
   "execution_count": 1,
   "metadata": {
    "id": "mnJcuM2PHusL"
   },
   "outputs": [],
   "source": [
    "import numpy as np\n",
    "import pandas as pd\n",
    "from imblearn.combine import SMOTETomek\n",
    "from imblearn.over_sampling import ADASYN, BorderlineSMOTE, RandomOverSampler, SMOTE\n",
    "from imblearn.under_sampling import NearMiss, RandomUnderSampler, TomekLinks\n",
    "from sklearn.ensemble import RandomForestClassifier\n",
    "from sklearn.metrics import accuracy_score, balanced_accuracy_score, confusion_matrix, matthews_corrcoef, precision_score, recall_score, f1_score\n",
    "from sklearn.model_selection import train_test_split\n",
    "from sklearn.preprocessing import LabelEncoder"
   ]
  },
  {
   "cell_type": "code",
   "execution_count": 2,
   "metadata": {
    "id": "gZlnQrzmH76h"
   },
   "outputs": [],
   "source": [
    "df = pd.read_csv('data.csv')"
   ]
  },
  {
   "cell_type": "markdown",
   "metadata": {
    "id": "0ghGpbQnIRpc"
   },
   "source": [
    "## 1\n",
    "\n",
    "**q1:** What proportion of patients in this data has a thyroid disease? Provide the answer (a number from 0 to 1), rounded to the nearest FIVE decimal places (e.g. 12.3456789 -> 12.34568)."
   ]
  },
  {
   "cell_type": "code",
   "execution_count": 3,
   "metadata": {
    "id": "-HTO43H4hFOw"
   },
   "outputs": [
    {
     "data": {
      "text/plain": [
       "0.06124"
      ]
     },
     "execution_count": 3,
     "metadata": {},
     "output_type": "execute_result"
    }
   ],
   "source": [
    "np.round(df['Class'].value_counts()[1] / (df['Class'].value_counts()[0] + df['Class'].value_counts()[1]),5)"
   ]
  },
  {
   "cell_type": "markdown",
   "metadata": {
    "id": "KEIkQynhI62Q"
   },
   "source": [
    "## 2\n",
    "\n",
    "**q2:** How many columns contain missing values (NaN)?"
   ]
  },
  {
   "cell_type": "code",
   "execution_count": 4,
   "metadata": {
    "id": "l0EciHychHj0"
   },
   "outputs": [
    {
     "data": {
      "text/plain": [
       "7"
      ]
     },
     "execution_count": 4,
     "metadata": {},
     "output_type": "execute_result"
    }
   ],
   "source": [
    "len([i for i in df.isna().sum() if i>0])"
   ]
  },
  {
   "cell_type": "markdown",
   "metadata": {
    "id": "iTscFPARJUIx"
   },
   "source": [
    "## 3\n",
    "\n",
    "**q3:** How many columns contain only one unique value (count NaNs too)? If the number is bigger than 0, drop these columns."
   ]
  },
  {
   "cell_type": "code",
   "execution_count": 5,
   "metadata": {
    "id": "yrPFs6VxJiUB"
   },
   "outputs": [
    {
     "name": "stdout",
     "output_type": "stream",
     "text": [
      "2\n"
     ]
    }
   ],
   "source": [
    "print(len([i for i in df.columns if len(df[i].unique()) == 1]))\n",
    "\n",
    "df = df.drop(columns = [i for i in df.columns if len(df[i].unique()) == 1])"
   ]
  },
  {
   "cell_type": "markdown",
   "metadata": {
    "id": "FrwI7II3O3vk"
   },
   "source": [
    "## 4\n",
    "\n",
    "**q4:** Calculate the number of binary columns (only two unique values) with `'object'` data types. Transform them with `LabelEncoder` so that their values become numbers."
   ]
  },
  {
   "cell_type": "code",
   "execution_count": 6,
   "metadata": {
    "id": "KnMXKyRMhMgD"
   },
   "outputs": [],
   "source": [
    "bin_cols = [i for i in df.columns if len(df[i].unique()) == 2 and df[i].dtype == 'object']\n",
    "le = LabelEncoder()\n",
    "\n",
    "for i in bin_cols:\n",
    "    df[i] = le.fit_transform(df[i])\n"
   ]
  },
  {
   "cell_type": "code",
   "execution_count": 7,
   "metadata": {},
   "outputs": [
    {
     "data": {
      "text/plain": [
       "20"
      ]
     },
     "execution_count": 7,
     "metadata": {},
     "output_type": "execute_result"
    }
   ],
   "source": [
    "len(bin_cols)"
   ]
  },
  {
   "cell_type": "markdown",
   "metadata": {
    "id": "8Ksb5OEaO8yn"
   },
   "source": [
    "## 5"
   ]
  },
  {
   "cell_type": "markdown",
   "metadata": {
    "id": "BqNED_H1QLjx"
   },
   "source": [
    "**q5:** How many categorical columns with `'object'` data types are remaining in the data? Encode them with One-Hot encoding (with `pandas.get_dummies()`) the same way as in the programming assignment in week 1."
   ]
  },
  {
   "cell_type": "code",
   "execution_count": 8,
   "metadata": {
    "id": "KRY5FaOMhSMa"
   },
   "outputs": [],
   "source": [
    "cat_cols = [i for i in df.columns if df[i].dtype == 'object' and i not in bin_cols]\n",
    "\n",
    "df = pd.get_dummies(df, columns = cat_cols)"
   ]
  },
  {
   "cell_type": "markdown",
   "metadata": {
    "id": "pvrYcBOtQP2-"
   },
   "source": [
    "## 6\n",
    "\n",
    "We have encoded categorical features, but we still have missing values. Fill them with a number -999. \n",
    "\n",
    "**q6:** What is a mean value of `'T3'` column now? Provide the answer, rounded to the nearest FIVE decimal places (e.g. 12.3456789 -> 12.34568).\n",
    "\n",
    "Don't be afraid if you see that the mean changed significantly after filling missing values. We just introduced a special category, and it won't influence tree-based models."
   ]
  },
  {
   "cell_type": "code",
   "execution_count": 9,
   "metadata": {
    "id": "c2wyZVmZhU7i"
   },
   "outputs": [
    {
     "data": {
      "text/plain": [
       "-202.06375"
      ]
     },
     "execution_count": 9,
     "metadata": {},
     "output_type": "execute_result"
    }
   ],
   "source": [
    "# your code here\n",
    "df = df.fillna(-999)\n",
    "\n",
    "np.round(np.mean(df.T3), 5)"
   ]
  },
  {
   "cell_type": "markdown",
   "metadata": {
    "id": "kwjGmSAYRF5l"
   },
   "source": [
    "## 7"
   ]
  },
  {
   "cell_type": "markdown",
   "metadata": {
    "id": "fwF53aicD4yB"
   },
   "source": [
    "Finally, we have preprocessed the data. Next, we separate the target from the dataframe with features (`df` -> `X`, `y`).\n",
    "\n",
    "Split the data (`X` and `y`) into train and test sets using `train_test_split` from `sklearn`. Test size should be 0.25 of the whole data. Use `random_state=13`, so that your results are reproducible and similar to the original ones.\n",
    "\n",
    "**q7:** Measure the proportion of patients in train set who has a thyroid disease (as in the task 1). Measure the proportion of patients in test set who has a thyroid disease. As the answer, provide the absolute value of the difference between these proportions (to compare positive class proportions in train and test), rounded to the nearest FIVE decimal places (e.g. 12.3456789 -> 12.34568)."
   ]
  },
  {
   "cell_type": "code",
   "execution_count": 10,
   "metadata": {
    "id": "kn-lXZGTha-u"
   },
   "outputs": [],
   "source": [
    "X = df.drop('Class', axis=1)\n",
    "y = df['Class']"
   ]
  },
  {
   "cell_type": "code",
   "execution_count": 11,
   "metadata": {
    "id": "M2U7IZqUhZOM"
   },
   "outputs": [],
   "source": [
    "X_train, X_test, y_train, y_test = train_test_split(X, y, test_size=0.25, random_state=13)"
   ]
  },
  {
   "cell_type": "code",
   "execution_count": 12,
   "metadata": {},
   "outputs": [
    {
     "data": {
      "text/plain": [
       "0.00813"
      ]
     },
     "execution_count": 12,
     "metadata": {},
     "output_type": "execute_result"
    }
   ],
   "source": [
    "# Measure the proportion of patients in train set who has a thyroid disease (as in the task 1). Measure the proportion of patients in test set who has a thyroid disease. As the answer, provide the absolute value of the difference between these proportions (to compare positive class proportions in train and test), rounded to the nearest FIVE decimal places\n",
    "trian_prop = y_train.value_counts()[1] / (y_train.value_counts()[0] + y_train.value_counts()[1])\n",
    "test_prop =  y_test.value_counts()[1] / (y_test.value_counts()[0] + y_test.value_counts()[1])\n",
    "\n",
    "np.round(np.abs(trian_prop - test_prop), 5)"
   ]
  },
  {
   "cell_type": "markdown",
   "metadata": {
    "id": "__U7tPLlRyTx"
   },
   "source": [
    "## 8\n",
    "\n",
    "Now split the data (`X` and `y`) into train and test sets using `train_test_split` from `sklearn` with the same parameters, as in task 7, but also add `stratify=y` parameter for the stratification. This may help to make positive class proportions in train and test more similar.\n",
    "\n",
    "**q8:** Measure the proportion of patients in train set who has a thyroid disease (as in the task 1). Measure the proportion of patients in test set who has a thyroid disease. As the answer, provide the absolute value of the difference between these proportions (to compare positive class proportions in train and test), rounded to the nearest FIVE decimal places (e.g. 12.3456789 -> 12.34568).\n",
    "\n",
    "Is it bigger or smaller than the similar number in the previous task?"
   ]
  },
  {
   "cell_type": "code",
   "execution_count": 13,
   "metadata": {
    "id": "tviFOpUOhduW"
   },
   "outputs": [
    {
     "data": {
      "text/plain": [
       "0.00035"
      ]
     },
     "execution_count": 13,
     "metadata": {},
     "output_type": "execute_result"
    }
   ],
   "source": [
    "X_train, X_test, y_train, y_test = train_test_split(X, y, test_size=0.25, random_state=13, stratify=y)\n",
    "\n",
    "trian_prop = y_train.value_counts()[1] / (y_train.value_counts()[0] + y_train.value_counts()[1])\n",
    "test_prop = y_test.value_counts()[1] / (y_test.value_counts()[0] + y_test.value_counts()[1])\n",
    "\n",
    "np.round(np.abs(trian_prop - test_prop), 5)"
   ]
  },
  {
   "cell_type": "markdown",
   "metadata": {
    "id": "HaR2whPbR75v"
   },
   "source": [
    "## 9\n",
    "\n",
    "Let's move to modeling. First, we write two functions to estimate a quality of machine learning model predictions on test set via different metrics.\n",
    "\n",
    "In this and all the following tasks, use the same train and test sets which you obtained in the task 8 (with the stratification).\n",
    "\n",
    "Train a Random Forest classifier from `sklearn` with 50 estimators and `random_state=13`, and let all other parameters have the default values. Fit it on the train set and obtain predictions for the test set. Run the function which computes scores. \n",
    "\n",
    "**q9:** What balanced accuracy value do you obtain? Provide the answer, rounded to the nearest FIVE decimal places (e.g. 12.3456789 -> 12.34568)."
   ]
  },
  {
   "cell_type": "code",
   "execution_count": 14,
   "metadata": {
    "id": "rsDw2RWyRncI"
   },
   "outputs": [],
   "source": [
    "def compute_metrics(y_test, y_pred):\n",
    "    print('Accuracy: {:.5f}'.format(accuracy_score(y_test, y_pred)))\n",
    "    print('F-score: {:.5f}'.format(f1_score(y_test, y_pred)))\n",
    "    print('Precision: {:.5f}'.format(precision_score(y_test, y_pred)))\n",
    "    print('Recall: {:.5f}'.format(recall_score(y_test, y_pred)))\n",
    "    print('Accuracy (balanced): {:.5f}'.format(balanced_accuracy_score(y_test, y_pred)))\n",
    "    print('MCC: {:.5f}'.format(matthews_corrcoef(y_test, y_pred)))\n",
    "\n",
    "def compute_confusion_matrix(y_test, y_pred):\n",
    "    compute_metrics(y_test, y_pred)\n",
    "    return pd.DataFrame(\n",
    "        confusion_matrix(y_test, y_pred, labels=[1, 0]),\n",
    "        columns=['a(x) = 1', 'a(x) = 0'],\n",
    "        index=['y = 1', 'y = 0'],\n",
    "    ).T"
   ]
  },
  {
   "cell_type": "code",
   "execution_count": 15,
   "metadata": {
    "id": "mnKc_3OShgUx"
   },
   "outputs": [
    {
     "name": "stdout",
     "output_type": "stream",
     "text": [
      "Accuracy: 0.98091\n",
      "F-score: 0.82692\n",
      "Precision: 0.93478\n",
      "Recall: 0.74138\n",
      "Accuracy (balanced): 0.86899\n",
      "MCC: 0.82312\n"
     ]
    },
    {
     "data": {
      "text/html": [
       "<div>\n",
       "<style scoped>\n",
       "    .dataframe tbody tr th:only-of-type {\n",
       "        vertical-align: middle;\n",
       "    }\n",
       "\n",
       "    .dataframe tbody tr th {\n",
       "        vertical-align: top;\n",
       "    }\n",
       "\n",
       "    .dataframe thead th {\n",
       "        text-align: right;\n",
       "    }\n",
       "</style>\n",
       "<table border=\"1\" class=\"dataframe\">\n",
       "  <thead>\n",
       "    <tr style=\"text-align: right;\">\n",
       "      <th></th>\n",
       "      <th>y = 1</th>\n",
       "      <th>y = 0</th>\n",
       "    </tr>\n",
       "  </thead>\n",
       "  <tbody>\n",
       "    <tr>\n",
       "      <th>a(x) = 1</th>\n",
       "      <td>43</td>\n",
       "      <td>3</td>\n",
       "    </tr>\n",
       "    <tr>\n",
       "      <th>a(x) = 0</th>\n",
       "      <td>15</td>\n",
       "      <td>882</td>\n",
       "    </tr>\n",
       "  </tbody>\n",
       "</table>\n",
       "</div>"
      ],
      "text/plain": [
       "          y = 1  y = 0\n",
       "a(x) = 1     43      3\n",
       "a(x) = 0     15    882"
      ]
     },
     "execution_count": 15,
     "metadata": {},
     "output_type": "execute_result"
    }
   ],
   "source": [
    "rf = RandomForestClassifier(random_state=13, n_estimators=50)\n",
    "rf.fit(X_train, y_train)\n",
    "y_pred = rf.predict(X_test)\n",
    "\n",
    "compute_confusion_matrix(y_test, y_pred)"
   ]
  },
  {
   "cell_type": "markdown",
   "metadata": {
    "id": "G1sqeeqLSYgB"
   },
   "source": [
    "## 10\n",
    "\n",
    "In this task, perform the same procedure as in task 9, but with the parameter `class_weight='balanced'` in the Random Forest classifier. \n",
    "\n",
    "**q10:** What balanced accuracy value do you obtain? Provide the answer, rounded to the nearest FIVE decimal places (e.g. 12.3456789 -> 12.34568).\n",
    "\n",
    "Look at the scores overall. What do you think - did setting class weights improve the quality of the model?"
   ]
  },
  {
   "cell_type": "code",
   "execution_count": 16,
   "metadata": {
    "id": "bd40JwS9hofp"
   },
   "outputs": [
    {
     "name": "stdout",
     "output_type": "stream",
     "text": [
      "Accuracy: 0.98515\n",
      "F-score: 0.86275\n",
      "Precision: 1.00000\n",
      "Recall: 0.75862\n",
      "Accuracy (balanced): 0.87931\n",
      "MCC: 0.86418\n"
     ]
    },
    {
     "data": {
      "text/html": [
       "<div>\n",
       "<style scoped>\n",
       "    .dataframe tbody tr th:only-of-type {\n",
       "        vertical-align: middle;\n",
       "    }\n",
       "\n",
       "    .dataframe tbody tr th {\n",
       "        vertical-align: top;\n",
       "    }\n",
       "\n",
       "    .dataframe thead th {\n",
       "        text-align: right;\n",
       "    }\n",
       "</style>\n",
       "<table border=\"1\" class=\"dataframe\">\n",
       "  <thead>\n",
       "    <tr style=\"text-align: right;\">\n",
       "      <th></th>\n",
       "      <th>y = 1</th>\n",
       "      <th>y = 0</th>\n",
       "    </tr>\n",
       "  </thead>\n",
       "  <tbody>\n",
       "    <tr>\n",
       "      <th>a(x) = 1</th>\n",
       "      <td>44</td>\n",
       "      <td>0</td>\n",
       "    </tr>\n",
       "    <tr>\n",
       "      <th>a(x) = 0</th>\n",
       "      <td>14</td>\n",
       "      <td>885</td>\n",
       "    </tr>\n",
       "  </tbody>\n",
       "</table>\n",
       "</div>"
      ],
      "text/plain": [
       "          y = 1  y = 0\n",
       "a(x) = 1     44      0\n",
       "a(x) = 0     14    885"
      ]
     },
     "execution_count": 16,
     "metadata": {},
     "output_type": "execute_result"
    }
   ],
   "source": [
    "rf_balanced = RandomForestClassifier(random_state=13, n_estimators=50, class_weight='balanced')\n",
    "\n",
    "rf_balanced.fit(X_train, y_train)\n",
    "y_pred = rf_balanced.predict(X_test)\n",
    "\n",
    "compute_confusion_matrix(y_test, y_pred)"
   ]
  },
  {
   "cell_type": "markdown",
   "metadata": {
    "id": "gycbxN1jcfs0"
   },
   "source": [
    "## 11\n",
    "\n",
    "Let's try to balance train set with different approaches. We will use a special library `imbalanced-learn` (documentation: https://imbalanced-learn.org/stable/).\n",
    "\n",
    "In this and all the following tasks, use the same Random Forest classifier setting as in the task 10 (with `class_weight='balanced'`).\n",
    "\n",
    "Let's start with a random understampling (`RandomUnderSampler`). Run it with the default parameter values and `random_state=13` on the initial train data (from the task 8) and modify it. Train a Random Forest classifier on the modified data and obtain the predictions on the test data.\n",
    "\n",
    "**q11:** What balanced accuracy value do you obtain? Provide the answer, rounded to the nearest FIVE decimal places (e.g. 12.3456789 -> 12.34568).\n",
    "\n",
    "Look at the scores overall. What do you think - how did random undersampling method perform?"
   ]
  },
  {
   "cell_type": "code",
   "execution_count": 17,
   "metadata": {
    "id": "6YyS6y5Rhq4O"
   },
   "outputs": [
    {
     "name": "stdout",
     "output_type": "stream",
     "text": [
      "Accuracy: 0.96182\n",
      "F-score: 0.75342\n",
      "Precision: 0.62500\n",
      "Recall: 0.94828\n",
      "Accuracy (balanced): 0.95549\n",
      "MCC: 0.75244\n"
     ]
    },
    {
     "data": {
      "text/html": [
       "<div>\n",
       "<style scoped>\n",
       "    .dataframe tbody tr th:only-of-type {\n",
       "        vertical-align: middle;\n",
       "    }\n",
       "\n",
       "    .dataframe tbody tr th {\n",
       "        vertical-align: top;\n",
       "    }\n",
       "\n",
       "    .dataframe thead th {\n",
       "        text-align: right;\n",
       "    }\n",
       "</style>\n",
       "<table border=\"1\" class=\"dataframe\">\n",
       "  <thead>\n",
       "    <tr style=\"text-align: right;\">\n",
       "      <th></th>\n",
       "      <th>y = 1</th>\n",
       "      <th>y = 0</th>\n",
       "    </tr>\n",
       "  </thead>\n",
       "  <tbody>\n",
       "    <tr>\n",
       "      <th>a(x) = 1</th>\n",
       "      <td>55</td>\n",
       "      <td>33</td>\n",
       "    </tr>\n",
       "    <tr>\n",
       "      <th>a(x) = 0</th>\n",
       "      <td>3</td>\n",
       "      <td>852</td>\n",
       "    </tr>\n",
       "  </tbody>\n",
       "</table>\n",
       "</div>"
      ],
      "text/plain": [
       "          y = 1  y = 0\n",
       "a(x) = 1     55     33\n",
       "a(x) = 0      3    852"
      ]
     },
     "execution_count": 17,
     "metadata": {},
     "output_type": "execute_result"
    }
   ],
   "source": [
    "rf_balanced = RandomForestClassifier(random_state=13, n_estimators=50, class_weight='balanced')\n",
    "undersampler = RandomUnderSampler(random_state=13)\n",
    "\n",
    "# undersampling\n",
    "X_train_undersampled, y_train_undersampled = undersampler.fit_resample(X_train, y_train)\n",
    "\n",
    "# fitpredict\n",
    "rf_balanced.fit(X_train_undersampled, y_train_undersampled)\n",
    "y_pred = rf_balanced.predict(X_test)\n",
    "\n",
    "compute_confusion_matrix(y_test, y_pred)"
   ]
  },
  {
   "cell_type": "markdown",
   "metadata": {
    "id": "Os1eiipec0m5"
   },
   "source": [
    "## 12\n",
    "\n",
    "Take the second version of `NearMiss` (`version=2`). Run it with `sampling_strategy=0.2`, `n_neighbors=3` and other default parameter values on the initial train data and modify it. Train a Random Forest classifier on the modified data and obtain the predictions on the test data.\n",
    "\n",
    "**q12:** What balanced accuracy value do you obtain? Provide the answer, rounded to the nearest FIVE decimal places (e.g. 12.3456789 -> 12.34568).\n",
    "\n",
    "Look at the scores overall. What do you think - how did NearMiss-2 method perform?"
   ]
  },
  {
   "cell_type": "code",
   "execution_count": 18,
   "metadata": {
    "id": "CAdpyxPphtGm"
   },
   "outputs": [
    {
     "name": "stdout",
     "output_type": "stream",
     "text": [
      "Accuracy: 0.81124\n",
      "F-score: 0.35971\n",
      "Precision: 0.22727\n",
      "Recall: 0.86207\n",
      "Accuracy (balanced): 0.83499\n",
      "MCC: 0.38060\n"
     ]
    },
    {
     "data": {
      "text/html": [
       "<div>\n",
       "<style scoped>\n",
       "    .dataframe tbody tr th:only-of-type {\n",
       "        vertical-align: middle;\n",
       "    }\n",
       "\n",
       "    .dataframe tbody tr th {\n",
       "        vertical-align: top;\n",
       "    }\n",
       "\n",
       "    .dataframe thead th {\n",
       "        text-align: right;\n",
       "    }\n",
       "</style>\n",
       "<table border=\"1\" class=\"dataframe\">\n",
       "  <thead>\n",
       "    <tr style=\"text-align: right;\">\n",
       "      <th></th>\n",
       "      <th>y = 1</th>\n",
       "      <th>y = 0</th>\n",
       "    </tr>\n",
       "  </thead>\n",
       "  <tbody>\n",
       "    <tr>\n",
       "      <th>a(x) = 1</th>\n",
       "      <td>50</td>\n",
       "      <td>170</td>\n",
       "    </tr>\n",
       "    <tr>\n",
       "      <th>a(x) = 0</th>\n",
       "      <td>8</td>\n",
       "      <td>715</td>\n",
       "    </tr>\n",
       "  </tbody>\n",
       "</table>\n",
       "</div>"
      ],
      "text/plain": [
       "          y = 1  y = 0\n",
       "a(x) = 1     50    170\n",
       "a(x) = 0      8    715"
      ]
     },
     "execution_count": 18,
     "metadata": {},
     "output_type": "execute_result"
    }
   ],
   "source": [
    "nm = NearMiss(version=2, sampling_strategy=0.2, n_neighbors=3)\n",
    "\n",
    "X_train_undersampled, y_train_undersampled = nm.fit_resample(X_train, y_train)\n",
    "\n",
    "rf_balanced.fit(X_train_undersampled, y_train_undersampled)\n",
    "y_pred = rf_balanced.predict(X_test)\n",
    "\n",
    "compute_confusion_matrix(y_test, y_pred)"
   ]
  },
  {
   "cell_type": "markdown",
   "metadata": {
    "id": "_F6LGzMJc9wA"
   },
   "source": [
    "## 13\n",
    "\n",
    "Take the Tomek's links method (`TomekLinks`) with the default parameter values, run it on the initial train data and modify it. Train a Random Forest classifier on the modified data and obtain the predictions on the test data.\n",
    "\n",
    "**q13:** What balanced accuracy value do you obtain? Provide the answer, rounded to the nearest FIVE decimal places (e.g. 12.3456789 -> 12.34568).\n",
    "\n",
    "Look at the scores overall. What do you think - how did Tomek's links method perform? What was the best undersampling approach?"
   ]
  },
  {
   "cell_type": "code",
   "execution_count": 19,
   "metadata": {
    "id": "86bH0o9Vhvim"
   },
   "outputs": [
    {
     "name": "stdout",
     "output_type": "stream",
     "text": [
      "Accuracy: 0.98515\n",
      "F-score: 0.86792\n",
      "Precision: 0.95833\n",
      "Recall: 0.79310\n",
      "Accuracy (balanced): 0.89542\n",
      "MCC: 0.86446\n"
     ]
    },
    {
     "data": {
      "text/html": [
       "<div>\n",
       "<style scoped>\n",
       "    .dataframe tbody tr th:only-of-type {\n",
       "        vertical-align: middle;\n",
       "    }\n",
       "\n",
       "    .dataframe tbody tr th {\n",
       "        vertical-align: top;\n",
       "    }\n",
       "\n",
       "    .dataframe thead th {\n",
       "        text-align: right;\n",
       "    }\n",
       "</style>\n",
       "<table border=\"1\" class=\"dataframe\">\n",
       "  <thead>\n",
       "    <tr style=\"text-align: right;\">\n",
       "      <th></th>\n",
       "      <th>y = 1</th>\n",
       "      <th>y = 0</th>\n",
       "    </tr>\n",
       "  </thead>\n",
       "  <tbody>\n",
       "    <tr>\n",
       "      <th>a(x) = 1</th>\n",
       "      <td>46</td>\n",
       "      <td>2</td>\n",
       "    </tr>\n",
       "    <tr>\n",
       "      <th>a(x) = 0</th>\n",
       "      <td>12</td>\n",
       "      <td>883</td>\n",
       "    </tr>\n",
       "  </tbody>\n",
       "</table>\n",
       "</div>"
      ],
      "text/plain": [
       "          y = 1  y = 0\n",
       "a(x) = 1     46      2\n",
       "a(x) = 0     12    883"
      ]
     },
     "execution_count": 19,
     "metadata": {},
     "output_type": "execute_result"
    }
   ],
   "source": [
    "tl = TomekLinks()\n",
    "\n",
    "X_train_undersampled, y_train_undersampled = tl.fit_resample(X_train, y_train)\n",
    "\n",
    "rf_balanced.fit(X_train_undersampled, y_train_undersampled)\n",
    "y_pred = rf_balanced.predict(X_test)\n",
    "\n",
    "compute_confusion_matrix(y_test, y_pred)"
   ]
  },
  {
   "cell_type": "markdown",
   "metadata": {
    "id": "R_IQz18DdPhs"
   },
   "source": [
    "## 14\n",
    "\n",
    "Now let's move to the oversampling. Take a random oversampling approach (`RandomOverSampler`) with `sampling_strategy=0.8`, `random_state=13` and other default parameter values. Run it on the initial train data and modify it. Train a Random Forest classifier on the modified data and obtain the predictions on the test data.\n",
    "\n",
    "**q14:** What balanced accuracy value do you obtain? Provide the answer, rounded to the nearest FIVE decimal places (e.g. 12.3456789 -> 12.34568).\n",
    "\n",
    "Look at the scores overall. What do you think - how did random oversampling method perform?"
   ]
  },
  {
   "cell_type": "code",
   "execution_count": 20,
   "metadata": {
    "id": "4lNDlrlshxkt"
   },
   "outputs": [
    {
     "name": "stdout",
     "output_type": "stream",
     "text": [
      "Accuracy: 0.98515\n",
      "F-score: 0.87500\n",
      "Precision: 0.90741\n",
      "Recall: 0.84483\n",
      "Accuracy (balanced): 0.91959\n",
      "MCC: 0.86774\n"
     ]
    },
    {
     "data": {
      "text/html": [
       "<div>\n",
       "<style scoped>\n",
       "    .dataframe tbody tr th:only-of-type {\n",
       "        vertical-align: middle;\n",
       "    }\n",
       "\n",
       "    .dataframe tbody tr th {\n",
       "        vertical-align: top;\n",
       "    }\n",
       "\n",
       "    .dataframe thead th {\n",
       "        text-align: right;\n",
       "    }\n",
       "</style>\n",
       "<table border=\"1\" class=\"dataframe\">\n",
       "  <thead>\n",
       "    <tr style=\"text-align: right;\">\n",
       "      <th></th>\n",
       "      <th>y = 1</th>\n",
       "      <th>y = 0</th>\n",
       "    </tr>\n",
       "  </thead>\n",
       "  <tbody>\n",
       "    <tr>\n",
       "      <th>a(x) = 1</th>\n",
       "      <td>49</td>\n",
       "      <td>5</td>\n",
       "    </tr>\n",
       "    <tr>\n",
       "      <th>a(x) = 0</th>\n",
       "      <td>9</td>\n",
       "      <td>880</td>\n",
       "    </tr>\n",
       "  </tbody>\n",
       "</table>\n",
       "</div>"
      ],
      "text/plain": [
       "          y = 1  y = 0\n",
       "a(x) = 1     49      5\n",
       "a(x) = 0      9    880"
      ]
     },
     "execution_count": 20,
     "metadata": {},
     "output_type": "execute_result"
    }
   ],
   "source": [
    "ros = RandomOverSampler(random_state=13, sampling_strategy=0.8)\n",
    "\n",
    "X_train_oversampled, y_train_oversampled = ros.fit_resample(X_train, y_train)\n",
    "\n",
    "rf_balanced.fit(X_train_oversampled, y_train_oversampled)\n",
    "y_pred = rf_balanced.predict(X_test)\n",
    "\n",
    "compute_confusion_matrix(y_test, y_pred)"
   ]
  },
  {
   "cell_type": "markdown",
   "metadata": {
    "id": "Vnlw0ZLZdoFs"
   },
   "source": [
    "## 15\n",
    "\n",
    "Take SMOTE (`SMOTE`) with `sampling_strategy=0.8`, `k_neighbors=5`, `random_state=13` and other default parameter values. Run it on the initial train data and modify it. Train a Random Forest classifier on the modified data and obtain the predictions on the test data.\n",
    "\n",
    "**q15:** What balanced accuracy value do you obtain? Provide the answer, rounded to the nearest FIVE decimal places (e.g. 12.3456789 -> 12.34568).\n",
    "\n",
    "Look at the scores overall. What do you think - how did SMOTE method perform? Was it better than random oversampling?"
   ]
  },
  {
   "cell_type": "code",
   "execution_count": 21,
   "metadata": {
    "id": "SHo5R9sMh0vB"
   },
   "outputs": [
    {
     "name": "stdout",
     "output_type": "stream",
     "text": [
      "Accuracy: 0.98515\n",
      "F-score: 0.87273\n",
      "Precision: 0.92308\n",
      "Recall: 0.82759\n",
      "Accuracy (balanced): 0.91153\n",
      "MCC: 0.86632\n"
     ]
    },
    {
     "data": {
      "text/html": [
       "<div>\n",
       "<style scoped>\n",
       "    .dataframe tbody tr th:only-of-type {\n",
       "        vertical-align: middle;\n",
       "    }\n",
       "\n",
       "    .dataframe tbody tr th {\n",
       "        vertical-align: top;\n",
       "    }\n",
       "\n",
       "    .dataframe thead th {\n",
       "        text-align: right;\n",
       "    }\n",
       "</style>\n",
       "<table border=\"1\" class=\"dataframe\">\n",
       "  <thead>\n",
       "    <tr style=\"text-align: right;\">\n",
       "      <th></th>\n",
       "      <th>y = 1</th>\n",
       "      <th>y = 0</th>\n",
       "    </tr>\n",
       "  </thead>\n",
       "  <tbody>\n",
       "    <tr>\n",
       "      <th>a(x) = 1</th>\n",
       "      <td>48</td>\n",
       "      <td>4</td>\n",
       "    </tr>\n",
       "    <tr>\n",
       "      <th>a(x) = 0</th>\n",
       "      <td>10</td>\n",
       "      <td>881</td>\n",
       "    </tr>\n",
       "  </tbody>\n",
       "</table>\n",
       "</div>"
      ],
      "text/plain": [
       "          y = 1  y = 0\n",
       "a(x) = 1     48      4\n",
       "a(x) = 0     10    881"
      ]
     },
     "execution_count": 21,
     "metadata": {},
     "output_type": "execute_result"
    }
   ],
   "source": [
    "smote = SMOTE(random_state=13, sampling_strategy=0.8, k_neighbors=5)\n",
    "\n",
    "X_train_oversampled, y_train_oversampled = smote.fit_resample(X_train, y_train)\n",
    "\n",
    "rf_balanced.fit(X_train_oversampled, y_train_oversampled)\n",
    "y_pred = rf_balanced.predict(X_test)\n",
    "\n",
    "compute_confusion_matrix(y_test, y_pred)"
   ]
  },
  {
   "cell_type": "code",
   "execution_count": 22,
   "metadata": {},
   "outputs": [
    {
     "name": "stdout",
     "output_type": "stream",
     "text": [
      "Accuracy: 0.98515\n",
      "F-score: 0.87273\n",
      "Precision: 0.92308\n",
      "Recall: 0.82759\n",
      "Accuracy (balanced): 0.91153\n",
      "MCC: 0.86632\n"
     ]
    },
    {
     "data": {
      "text/html": [
       "<div>\n",
       "<style scoped>\n",
       "    .dataframe tbody tr th:only-of-type {\n",
       "        vertical-align: middle;\n",
       "    }\n",
       "\n",
       "    .dataframe tbody tr th {\n",
       "        vertical-align: top;\n",
       "    }\n",
       "\n",
       "    .dataframe thead th {\n",
       "        text-align: right;\n",
       "    }\n",
       "</style>\n",
       "<table border=\"1\" class=\"dataframe\">\n",
       "  <thead>\n",
       "    <tr style=\"text-align: right;\">\n",
       "      <th></th>\n",
       "      <th>y = 1</th>\n",
       "      <th>y = 0</th>\n",
       "    </tr>\n",
       "  </thead>\n",
       "  <tbody>\n",
       "    <tr>\n",
       "      <th>a(x) = 1</th>\n",
       "      <td>48</td>\n",
       "      <td>4</td>\n",
       "    </tr>\n",
       "    <tr>\n",
       "      <th>a(x) = 0</th>\n",
       "      <td>10</td>\n",
       "      <td>881</td>\n",
       "    </tr>\n",
       "  </tbody>\n",
       "</table>\n",
       "</div>"
      ],
      "text/plain": [
       "          y = 1  y = 0\n",
       "a(x) = 1     48      4\n",
       "a(x) = 0     10    881"
      ]
     },
     "execution_count": 22,
     "metadata": {},
     "output_type": "execute_result"
    }
   ],
   "source": [
    "mote = SMOTE(sampling_strategy=0.8, k_neighbors=5, random_state=13)\n",
    "X_res, y_res = smote.fit_resample(X_train, y_train)\n",
    "\n",
    "rf = RandomForestClassifier(n_estimators=50, random_state=13, class_weight='balanced')\n",
    "rf.fit(X_res, y_res)\n",
    "\n",
    "y_pred = rf.predict(X_test)\n",
    "\n",
    "compute_confusion_matrix(y_test, y_pred)"
   ]
  },
  {
   "cell_type": "markdown",
   "metadata": {
    "id": "Rm9Ym7wDdtzO"
   },
   "source": [
    "## 16\n",
    "\n",
    "Take ADASYN (`ADASYN`) with `sampling_strategy=0.8`, `n_neighbors=5`, `random_state=13` and other default parameter values. Run it on the initial train data and modify it. Train a Random Forest classifier on the modified data and obtain the predictions on the test data.\n",
    "\n",
    "**q16:** What balanced accuracy value do you obtain? Provide the answer, rounded to the nearest FIVE decimal places (e.g. 12.3456789 -> 12.34568).\n",
    "\n",
    "Look at the scores overall. What do you think - how did ADASYN method perform? Was it better than SMOTE?"
   ]
  },
  {
   "cell_type": "code",
   "execution_count": 23,
   "metadata": {
    "id": "ht_RPEa0h22h"
   },
   "outputs": [
    {
     "name": "stdout",
     "output_type": "stream",
     "text": [
      "Accuracy: 0.98621\n",
      "F-score: 0.88288\n",
      "Precision: 0.92453\n",
      "Recall: 0.84483\n",
      "Accuracy (balanced): 0.92015\n",
      "MCC: 0.87658\n"
     ]
    },
    {
     "data": {
      "text/html": [
       "<div>\n",
       "<style scoped>\n",
       "    .dataframe tbody tr th:only-of-type {\n",
       "        vertical-align: middle;\n",
       "    }\n",
       "\n",
       "    .dataframe tbody tr th {\n",
       "        vertical-align: top;\n",
       "    }\n",
       "\n",
       "    .dataframe thead th {\n",
       "        text-align: right;\n",
       "    }\n",
       "</style>\n",
       "<table border=\"1\" class=\"dataframe\">\n",
       "  <thead>\n",
       "    <tr style=\"text-align: right;\">\n",
       "      <th></th>\n",
       "      <th>y = 1</th>\n",
       "      <th>y = 0</th>\n",
       "    </tr>\n",
       "  </thead>\n",
       "  <tbody>\n",
       "    <tr>\n",
       "      <th>a(x) = 1</th>\n",
       "      <td>49</td>\n",
       "      <td>4</td>\n",
       "    </tr>\n",
       "    <tr>\n",
       "      <th>a(x) = 0</th>\n",
       "      <td>9</td>\n",
       "      <td>881</td>\n",
       "    </tr>\n",
       "  </tbody>\n",
       "</table>\n",
       "</div>"
      ],
      "text/plain": [
       "          y = 1  y = 0\n",
       "a(x) = 1     49      4\n",
       "a(x) = 0      9    881"
      ]
     },
     "execution_count": 23,
     "metadata": {},
     "output_type": "execute_result"
    }
   ],
   "source": [
    "adasyn = ADASYN(random_state=13, sampling_strategy=0.8, n_neighbors=5)\n",
    "\n",
    "X_train_oversampled, y_train_oversampled = adasyn.fit_resample(X_train, y_train)\n",
    "\n",
    "rf_balanced.fit(X_train_oversampled, y_train_oversampled)\n",
    "y_pred = rf_balanced.predict(X_test)\n",
    "\n",
    "compute_confusion_matrix(y_test, y_pred)"
   ]
  },
  {
   "cell_type": "markdown",
   "metadata": {
    "id": "-PA2u4jfdz2n"
   },
   "source": [
    "## 17\n",
    "\n",
    "Take the first version of borderline SMOTE (`BorderlineSMOTE`, `kind='borderline-1'`) with `sampling_strategy=0.8`, `random_state=13` and other default parameter values. Run it on the initial train data and modify it. Train a Random Forest classifier on the modified data and obtain the predictions on the test data.\n",
    "\n",
    "**q17:** What balanced accuracy value do you obtain? Provide the answer, rounded to the nearest FIVE decimal places (e.g. 12.3456789 -> 12.34568).\n",
    "\n",
    "Look at the scores overall. What do you think - how did BorderlineSMOTE-1 method perform? Was it better than SMOTE and ADASYN? What was the best oversampling approach?"
   ]
  },
  {
   "cell_type": "code",
   "execution_count": 24,
   "metadata": {
    "id": "Fx7YsbBPh5DP"
   },
   "outputs": [
    {
     "name": "stdout",
     "output_type": "stream",
     "text": [
      "Accuracy: 0.98515\n",
      "F-score: 0.87273\n",
      "Precision: 0.92308\n",
      "Recall: 0.82759\n",
      "Accuracy (balanced): 0.91153\n",
      "MCC: 0.86632\n"
     ]
    },
    {
     "data": {
      "text/html": [
       "<div>\n",
       "<style scoped>\n",
       "    .dataframe tbody tr th:only-of-type {\n",
       "        vertical-align: middle;\n",
       "    }\n",
       "\n",
       "    .dataframe tbody tr th {\n",
       "        vertical-align: top;\n",
       "    }\n",
       "\n",
       "    .dataframe thead th {\n",
       "        text-align: right;\n",
       "    }\n",
       "</style>\n",
       "<table border=\"1\" class=\"dataframe\">\n",
       "  <thead>\n",
       "    <tr style=\"text-align: right;\">\n",
       "      <th></th>\n",
       "      <th>y = 1</th>\n",
       "      <th>y = 0</th>\n",
       "    </tr>\n",
       "  </thead>\n",
       "  <tbody>\n",
       "    <tr>\n",
       "      <th>a(x) = 1</th>\n",
       "      <td>48</td>\n",
       "      <td>4</td>\n",
       "    </tr>\n",
       "    <tr>\n",
       "      <th>a(x) = 0</th>\n",
       "      <td>10</td>\n",
       "      <td>881</td>\n",
       "    </tr>\n",
       "  </tbody>\n",
       "</table>\n",
       "</div>"
      ],
      "text/plain": [
       "          y = 1  y = 0\n",
       "a(x) = 1     48      4\n",
       "a(x) = 0     10    881"
      ]
     },
     "execution_count": 24,
     "metadata": {},
     "output_type": "execute_result"
    }
   ],
   "source": [
    "bsmote = BorderlineSMOTE(random_state=13, sampling_strategy=0.8, kind='borderline-1')\n",
    "\n",
    "X_train_oversampled, y_train_oversampled = bsmote.fit_resample(X_train, y_train)\n",
    "\n",
    "rf_balanced.fit(X_train_oversampled, y_train_oversampled)\n",
    "y_pred = rf_balanced.predict(X_test)\n",
    "\n",
    "compute_confusion_matrix(y_test, y_pred)"
   ]
  },
  {
   "cell_type": "markdown",
   "metadata": {
    "id": "AeK211Jfd7dx"
   },
   "source": [
    "## 18\n",
    "\n",
    "Finally, check the performance of the combination of oversampling and undersampling. Take SMOTE + Tomek's links (`SMOTETomek`) with `sampling_strategy=0.8`, `random_state=13` and other default parameter values. Run it on the initial train data and modify it. Train a Random Forest classifier on the modified data and obtain the predictions on the test data.\n",
    "\n",
    "**q18:** What balanced accuracy value do you obtain? Provide the answer, rounded to the nearest FIVE decimal places (e.g. 12.3456789 -> 12.34568).\n",
    "\n",
    "What do you think, which approach was the best to deal with our data?"
   ]
  },
  {
   "cell_type": "code",
   "execution_count": 25,
   "metadata": {
    "id": "JquX2fW-h8wV"
   },
   "outputs": [
    {
     "name": "stdout",
     "output_type": "stream",
     "text": [
      "Accuracy: 0.98515\n",
      "F-score: 0.87273\n",
      "Precision: 0.92308\n",
      "Recall: 0.82759\n",
      "Accuracy (balanced): 0.91153\n",
      "MCC: 0.86632\n"
     ]
    },
    {
     "data": {
      "text/html": [
       "<div>\n",
       "<style scoped>\n",
       "    .dataframe tbody tr th:only-of-type {\n",
       "        vertical-align: middle;\n",
       "    }\n",
       "\n",
       "    .dataframe tbody tr th {\n",
       "        vertical-align: top;\n",
       "    }\n",
       "\n",
       "    .dataframe thead th {\n",
       "        text-align: right;\n",
       "    }\n",
       "</style>\n",
       "<table border=\"1\" class=\"dataframe\">\n",
       "  <thead>\n",
       "    <tr style=\"text-align: right;\">\n",
       "      <th></th>\n",
       "      <th>y = 1</th>\n",
       "      <th>y = 0</th>\n",
       "    </tr>\n",
       "  </thead>\n",
       "  <tbody>\n",
       "    <tr>\n",
       "      <th>a(x) = 1</th>\n",
       "      <td>48</td>\n",
       "      <td>4</td>\n",
       "    </tr>\n",
       "    <tr>\n",
       "      <th>a(x) = 0</th>\n",
       "      <td>10</td>\n",
       "      <td>881</td>\n",
       "    </tr>\n",
       "  </tbody>\n",
       "</table>\n",
       "</div>"
      ],
      "text/plain": [
       "          y = 1  y = 0\n",
       "a(x) = 1     48      4\n",
       "a(x) = 0     10    881"
      ]
     },
     "execution_count": 25,
     "metadata": {},
     "output_type": "execute_result"
    }
   ],
   "source": [
    "smote_tomek = SMOTETomek(random_state=13, sampling_strategy=0.8)\n",
    "\n",
    "X_train_overunder, y_train_overunder = smote_tomek.fit_resample(X_train, y_train)\n",
    "\n",
    "rf_balanced.fit(X_train_overunder, y_train_overunder)\n",
    "y_pred = rf_balanced.predict(X_test)\n",
    "\n",
    "compute_confusion_matrix(y_test, y_pred)"
   ]
  },
  {
   "cell_type": "code",
   "execution_count": null,
   "metadata": {},
   "outputs": [],
   "source": []
  }
 ],
 "metadata": {
  "colab": {
   "authorship_tag": "ABX9TyMeY9JQtIwHgDF9PkHyqH75",
   "collapsed_sections": [],
   "name": "Week4_practice.ipynb",
   "provenance": []
  },
  "coursera": {
   "schema_names": [
    "imbalanced-data-task-week-4-1"
   ]
  },
  "kernelspec": {
   "display_name": "Python 3 (ipykernel)",
   "language": "python",
   "name": "python3"
  },
  "language_info": {
   "codemirror_mode": {
    "name": "ipython",
    "version": 3
   },
   "file_extension": ".py",
   "mimetype": "text/x-python",
   "name": "python",
   "nbconvert_exporter": "python",
   "pygments_lexer": "ipython3",
   "version": "3.12.0"
  }
 },
 "nbformat": 4,
 "nbformat_minor": 1
}
